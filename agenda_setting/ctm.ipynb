{
 "cells": [
  {
   "cell_type": "code",
   "execution_count": 1,
   "metadata": {},
   "outputs": [],
   "source": [
    "import os\n",
    "os.environ[\"TOKENIZERS_PARALLELISM\"] = \"false\"\n",
    "os.environ[\"CUDA_VISIBLE_DEVICES\"] = str(2)"
   ]
  },
  {
   "cell_type": "code",
   "execution_count": 2,
   "metadata": {},
   "outputs": [],
   "source": [
    "# Adapated from: https://colab.research.google.com/drive/1EO0bS0Wow_cjdGsDfV38xt--AxJQjFtg?usp=sharing#scrollTo=qmZ1uZecv7qW\n",
    "# Use conda env py39\n",
    "import pandas\n",
    "\n",
    "from contextualized_topic_models.models.ctm import ZeroShotTM, CombinedTM\n",
    "from contextualized_topic_models.utils.data_preparation import TopicModelDataPreparation, check_max_local_length, bert_embeddings_from_list\n",
    "from contextualized_topic_models.utils.preprocessing import WhiteSpacePreprocessingStopwords\n",
    "import nltk\n",
    "import torch\n",
    "import random\n",
    "import numpy as np\n",
    "from sentence_transformers import SentenceTransformer\n",
    "\n",
    "from nltk.corpus import stopwords as stop_words\n",
    "\n",
    "from collections import Counter"
   ]
  },
  {
   "cell_type": "code",
   "execution_count": 3,
   "metadata": {},
   "outputs": [],
   "source": [
    "\n",
    "def fix_seeds():\n",
    "    torch.manual_seed(10)\n",
    "    torch.cuda.manual_seed(10)\n",
    "    np.random.seed(10)\n",
    "    random.seed(10)\n",
    "    torch.backends.cudnn.enabled = False\n",
    "    torch.backends.cudnn.deterministic = True"
   ]
  },
  {
   "cell_type": "code",
   "execution_count": 5,
   "metadata": {},
   "outputs": [],
   "source": [
    "df = pandas.read_csv(\"topic-modeling-code/russia_ukraine_vk_war_only.csv\")\n",
    "df"
   ]
  },
  {
   "cell_type": "code",
   "execution_count": 7,
   "metadata": {},
   "outputs": [
    {
     "name": "stderr",
     "output_type": "stream",
     "text": [
      "/homes/gws/chentong/anaconda3/envs/pt-hw-pro/lib/python3.9/site-packages/contextualized_topic_models/utils/data_preparation.py:64: UserWarning: the longest document in your collection has 1808 words, the model instead truncates to 128 tokens.\n",
      "  warnings.warn(\n"
     ]
    },
    {
     "data": {
      "application/vnd.jupyter.widget-view+json": {
       "model_id": "c9c5b6dd753344bdbe36e007960bbd68",
       "version_major": 2,
       "version_minor": 0
      },
      "text/plain": [
       "Batches:   0%|          | 0/12639 [00:00<?, ?it/s]"
      ]
     },
     "metadata": {},
     "output_type": "display_data"
    },
    {
     "name": "stderr",
     "output_type": "stream",
     "text": [
      "Epoch: [50/50]\t Seen Samples: [5052800/5055400]\tTrain Loss: 114.82864403558578\tTime: 0:00:10.503172: : 50it [08:37, 10.36s/it]\n",
      "100%|██████████| 1580/1580 [00:05<00:00, 295.77it/s]\n"
     ]
    }
   ],
   "source": [
    "# Preprocessing\n",
    "documents = [str(x) for x in df.text.tolist()]\n",
    "\n",
    "# nltk.download('stopwords')\n",
    "stopwords = list(set(stop_words.words('russian')))\n",
    "sp = WhiteSpacePreprocessingStopwords(documents, stopwords_list=stopwords, max_df=0.995)\n",
    "preprocessed_documents, unpreprocessed_corpus, vocab, _ = sp.preprocess()\n",
    "\n",
    "fix_seeds() # uncomment if you don't want to fix the random seeds\n",
    "    \n",
    "# Train model with multilingual sentence model\n",
    "tp = TopicModelDataPreparation(\"paraphrase-multilingual-mpnet-base-v2\")\n",
    "\n",
    "# Extact the embeddings ourselves so we can reduce the batch size enough to fit on old GPUs\n",
    "custom_embeddings = bert_embeddings_from_list(unpreprocessed_corpus, tp.contextualized_model, batch_size=8, max_seq_length=tp.max_seq_length)\n",
    "training_dataset = tp.fit(text_for_contextual=unpreprocessed_corpus, text_for_bow=preprocessed_documents, custom_embeddings = custom_embeddings)\n",
    "\n",
    "num_topics = 30\n",
    "ctm = CombinedTM(bow_size=len(tp.vocab), contextual_size=768, n_components=num_topics, num_epochs=50)\n",
    "ctm.fit(training_dataset) # run the model"
   ]
  },
  {
   "cell_type": "code",
   "execution_count": 12,
   "metadata": {},
   "outputs": [
    {
     "name": "stdout",
     "output_type": "stream",
     "text": [
      "[['информации', 'россииским', 'иностранного', 'функции', 'иностранным'], ['gs', 'amp', 'москве', 'петербурге', 'победы'], ['компании', 'евро', 'нефти', 'компания', 'цены'], ['life', 'tv', 'важное', 'ria', 'заявление'], ['обсе', 'феики', 'rutube', 'cnn', 'призывы'], ['go', 'tass', 'http', 'ru', 'тасс'], ['html', 'https', 'www', 'utm', 'это'], ['минобороны', 'военнои', 'оперативно', 'объектов', 'операции'], ['com', 'rt', 'подробнее', 'russian', 'world'], ['utm', 'подробности', 'smotrim', 'новости', 'video'], ['заявил', 'владимир', 'нато', 'сша', 'президент'], ['мариуполя', 'обстрелов', 'жители', 'корреспондент', 'обстрела']]\n"
     ]
    }
   ],
   "source": [
    "print(ctm.get_topic_lists(5))"
   ]
  },
  {
   "cell_type": "code",
   "execution_count": 9,
   "metadata": {},
   "outputs": [
    {
     "name": "stdout",
     "output_type": "stream",
     "text": [
      "101108\n"
     ]
    }
   ],
   "source": [
    "topics_predictions = ctm.training_doc_topic_distributions # get all the topic predictions\n",
    "print(len(topics_predictions))"
   ]
  },
  {
   "cell_type": "code",
   "execution_count": 10,
   "metadata": {},
   "outputs": [
    {
     "name": "stdout",
     "output_type": "stream",
     "text": [
      "['gs', 'amp', 'москве', 'петербурге', 'победы', 'отечественнои', 'санкт', 'новои', 'великои', 'лет']\n"
     ]
    }
   ],
   "source": [
    "train_doc_id = 0\n",
    "topic_id = np.argmax(topics_predictions[train_doc_id]) # get the topic id of the  document\n",
    "print(ctm.get_topic_lists(10)[topic_id])"
   ]
  },
  {
   "cell_type": "code",
   "execution_count": 11,
   "metadata": {},
   "outputs": [],
   "source": [
    "# save ctm model to file ctm.pkl\n",
    "import pickle\n",
    "with open('ctm.pkl', 'wb') as f:\n",
    "    pickle.dump(ctm, f)\n",
    "    "
   ]
  },
  {
   "cell_type": "code",
   "execution_count": 24,
   "metadata": {},
   "outputs": [
    {
     "name": "stdout",
     "output_type": "stream",
     "text": [
      "[0, 0, 0, 0, 0, 0, 0, 4, 0, 0, 0, 0] 7\n",
      "[1, 0, 0, 0, 0, 1, 1, 0, 1, 4, 0, 5] 11\n"
     ]
    }
   ],
   "source": [
    "military_word_set = set([\n",
    "    # округа:area, авиации:aviation, военного:military, военно:military, флота:navy, \n",
    "    # учения:military exercise, су:Sukhoi Su, военнослужащие:military personnel, противника:enemy, сил:forces\n",
    "    \"округа\", \"авиации\", \"военного\", \"военно\", \"флота\", \n",
    "    \"учения\", \"су\", \"военнослужащие\", \"противника\", \"сил\",\n",
    "])\n",
    "ukraine_word_set = set([\n",
    "    # днр:DPR, лнр:LPR, мариуполя:Mariupol, мирных:peaceful, жителеи:residents, \n",
    "    # украинские:Ukrainian, народнои:folk, новости:news, донбасса:Donbass, мариуполе:Mariupol\n",
    "    \"днр\", \"лнр\", \"мариуполя\", \"мирных\", \"жителеи\", \n",
    "    \"украинские\", \"народнои\", \"новости\", \"донбасса\", \"мариуполе\",\n",
    "])\n",
    "topic_word_set_list = [set(l) for l in ctm.get_topic_lists(100)]\n",
    "# find the topic that contains the most military words\n",
    "military_word_inter_size = [len(topic_word_set.intersection(military_word_set)) for topic_word_set in topic_word_set_list]\n",
    "military_topic_idx = np.argmax(military_word_inter_size)\n",
    "print(military_word_inter_size, military_topic_idx)\n",
    "# # find the topic that contains the most ukraine words\n",
    "ukraine_word_inter_size = [len(topic_word_set.intersection(ukraine_word_set)) for topic_word_set in topic_word_set_list]\n",
    "ukraine_topic_idx = np.argmax(ukraine_word_inter_size)\n",
    "print(ukraine_word_inter_size, ukraine_topic_idx)"
   ]
  },
  {
   "cell_type": "code",
   "execution_count": 63,
   "metadata": {},
   "outputs": [
    {
     "name": "stdout",
     "output_type": "stream",
     "text": [
      "                                                text  date              kind\n",
      "0                                              ⚡ ⚡ ⚡   441  state-affiliated\n",
      "1  Руководство УЕФА решило перенести игру из-за с...   420  state-affiliated\n",
      "2  Российский теннисист поднялся на две позиции б...   493  state-affiliated\n",
      "3  ❗ ️ Латвия запретила 25 российским деятелям ку...   447  state-affiliated\n",
      "4  « Не верится , что всё это происходит » ➡ Подр...   424  state-affiliated\n"
     ]
    },
    {
     "data": {
      "application/vnd.jupyter.widget-view+json": {
       "model_id": "a5e5c4d88b104368aa6e37e57ba5a9ae",
       "version_major": 2,
       "version_minor": 0
      },
      "text/plain": [
       "0it [00:00, ?it/s]"
      ]
     },
     "metadata": {},
     "output_type": "display_data"
    }
   ],
   "source": [
    "from tqdm.auto import tqdm\n",
    "import pandas as pd\n",
    "\n",
    "# counting the number of topic 11 with two kinds\n",
    "topic_per_text = np.argmax(topics_predictions, axis=1)\n",
    "# print(Counter(topic_per_text))\n",
    "\n",
    "sub_df = df[['text', 'date', 'kind']].dropna()\n",
    "print(sub_df.head())\n",
    "\n",
    "results = []\n",
    "for topic, (i, row) in tqdm(zip(topic_per_text, sub_df.iterrows())):\n",
    "    results.append({'topic': topic, 'kind': row['kind']})\n",
    "results = pandas.DataFrame(results)"
   ]
  },
  {
   "cell_type": "code",
   "execution_count": 82,
   "metadata": {},
   "outputs": [
    {
     "data": {
      "text/html": [
       "<div>\n",
       "<style scoped>\n",
       "    .dataframe tbody tr th:only-of-type {\n",
       "        vertical-align: middle;\n",
       "    }\n",
       "\n",
       "    .dataframe tbody tr th {\n",
       "        vertical-align: top;\n",
       "    }\n",
       "\n",
       "    .dataframe thead th {\n",
       "        text-align: right;\n",
       "    }\n",
       "</style>\n",
       "<table border=\"1\" class=\"dataframe\">\n",
       "  <thead>\n",
       "    <tr style=\"text-align: right;\">\n",
       "      <th></th>\n",
       "      <th>topic</th>\n",
       "      <th>kind</th>\n",
       "      <th>0_war</th>\n",
       "      <th>0_all</th>\n",
       "      <th>freq</th>\n",
       "    </tr>\n",
       "  </thead>\n",
       "  <tbody>\n",
       "    <tr>\n",
       "      <th>0</th>\n",
       "      <td>0</td>\n",
       "      <td>independent</td>\n",
       "      <td>2928</td>\n",
       "      <td>23111</td>\n",
       "      <td>0.126693</td>\n",
       "    </tr>\n",
       "    <tr>\n",
       "      <th>1</th>\n",
       "      <td>1</td>\n",
       "      <td>independent</td>\n",
       "      <td>5111</td>\n",
       "      <td>23111</td>\n",
       "      <td>0.221150</td>\n",
       "    </tr>\n",
       "    <tr>\n",
       "      <th>2</th>\n",
       "      <td>2</td>\n",
       "      <td>independent</td>\n",
       "      <td>3840</td>\n",
       "      <td>23111</td>\n",
       "      <td>0.166155</td>\n",
       "    </tr>\n",
       "    <tr>\n",
       "      <th>3</th>\n",
       "      <td>3</td>\n",
       "      <td>independent</td>\n",
       "      <td>91</td>\n",
       "      <td>23111</td>\n",
       "      <td>0.003938</td>\n",
       "    </tr>\n",
       "    <tr>\n",
       "      <th>4</th>\n",
       "      <td>4</td>\n",
       "      <td>independent</td>\n",
       "      <td>2081</td>\n",
       "      <td>23111</td>\n",
       "      <td>0.090044</td>\n",
       "    </tr>\n",
       "    <tr>\n",
       "      <th>5</th>\n",
       "      <td>5</td>\n",
       "      <td>independent</td>\n",
       "      <td>622</td>\n",
       "      <td>23111</td>\n",
       "      <td>0.026914</td>\n",
       "    </tr>\n",
       "    <tr>\n",
       "      <th>6</th>\n",
       "      <td>6</td>\n",
       "      <td>independent</td>\n",
       "      <td>2905</td>\n",
       "      <td>23111</td>\n",
       "      <td>0.125698</td>\n",
       "    </tr>\n",
       "    <tr>\n",
       "      <th>7</th>\n",
       "      <td>7</td>\n",
       "      <td>independent</td>\n",
       "      <td>773</td>\n",
       "      <td>23111</td>\n",
       "      <td>0.033447</td>\n",
       "    </tr>\n",
       "    <tr>\n",
       "      <th>8</th>\n",
       "      <td>8</td>\n",
       "      <td>independent</td>\n",
       "      <td>490</td>\n",
       "      <td>23111</td>\n",
       "      <td>0.021202</td>\n",
       "    </tr>\n",
       "    <tr>\n",
       "      <th>9</th>\n",
       "      <td>9</td>\n",
       "      <td>independent</td>\n",
       "      <td>270</td>\n",
       "      <td>23111</td>\n",
       "      <td>0.011683</td>\n",
       "    </tr>\n",
       "    <tr>\n",
       "      <th>10</th>\n",
       "      <td>10</td>\n",
       "      <td>independent</td>\n",
       "      <td>2302</td>\n",
       "      <td>23111</td>\n",
       "      <td>0.099606</td>\n",
       "    </tr>\n",
       "    <tr>\n",
       "      <th>11</th>\n",
       "      <td>11</td>\n",
       "      <td>independent</td>\n",
       "      <td>1698</td>\n",
       "      <td>23111</td>\n",
       "      <td>0.073472</td>\n",
       "    </tr>\n",
       "    <tr>\n",
       "      <th>12</th>\n",
       "      <td>0</td>\n",
       "      <td>state-affiliated</td>\n",
       "      <td>101</td>\n",
       "      <td>75892</td>\n",
       "      <td>0.001331</td>\n",
       "    </tr>\n",
       "    <tr>\n",
       "      <th>13</th>\n",
       "      <td>1</td>\n",
       "      <td>state-affiliated</td>\n",
       "      <td>5152</td>\n",
       "      <td>75892</td>\n",
       "      <td>0.067886</td>\n",
       "    </tr>\n",
       "    <tr>\n",
       "      <th>14</th>\n",
       "      <td>2</td>\n",
       "      <td>state-affiliated</td>\n",
       "      <td>7526</td>\n",
       "      <td>75892</td>\n",
       "      <td>0.099167</td>\n",
       "    </tr>\n",
       "    <tr>\n",
       "      <th>15</th>\n",
       "      <td>3</td>\n",
       "      <td>state-affiliated</td>\n",
       "      <td>13862</td>\n",
       "      <td>75892</td>\n",
       "      <td>0.182654</td>\n",
       "    </tr>\n",
       "    <tr>\n",
       "      <th>16</th>\n",
       "      <td>4</td>\n",
       "      <td>state-affiliated</td>\n",
       "      <td>10939</td>\n",
       "      <td>75892</td>\n",
       "      <td>0.144139</td>\n",
       "    </tr>\n",
       "    <tr>\n",
       "      <th>17</th>\n",
       "      <td>5</td>\n",
       "      <td>state-affiliated</td>\n",
       "      <td>7979</td>\n",
       "      <td>75892</td>\n",
       "      <td>0.105136</td>\n",
       "    </tr>\n",
       "    <tr>\n",
       "      <th>18</th>\n",
       "      <td>6</td>\n",
       "      <td>state-affiliated</td>\n",
       "      <td>1012</td>\n",
       "      <td>75892</td>\n",
       "      <td>0.013335</td>\n",
       "    </tr>\n",
       "    <tr>\n",
       "      <th>19</th>\n",
       "      <td>7</td>\n",
       "      <td>state-affiliated</td>\n",
       "      <td>4832</td>\n",
       "      <td>75892</td>\n",
       "      <td>0.063669</td>\n",
       "    </tr>\n",
       "    <tr>\n",
       "      <th>20</th>\n",
       "      <td>8</td>\n",
       "      <td>state-affiliated</td>\n",
       "      <td>7874</td>\n",
       "      <td>75892</td>\n",
       "      <td>0.103753</td>\n",
       "    </tr>\n",
       "    <tr>\n",
       "      <th>21</th>\n",
       "      <td>9</td>\n",
       "      <td>state-affiliated</td>\n",
       "      <td>4477</td>\n",
       "      <td>75892</td>\n",
       "      <td>0.058992</td>\n",
       "    </tr>\n",
       "    <tr>\n",
       "      <th>22</th>\n",
       "      <td>10</td>\n",
       "      <td>state-affiliated</td>\n",
       "      <td>6078</td>\n",
       "      <td>75892</td>\n",
       "      <td>0.080087</td>\n",
       "    </tr>\n",
       "    <tr>\n",
       "      <th>23</th>\n",
       "      <td>11</td>\n",
       "      <td>state-affiliated</td>\n",
       "      <td>6060</td>\n",
       "      <td>75892</td>\n",
       "      <td>0.079850</td>\n",
       "    </tr>\n",
       "  </tbody>\n",
       "</table>\n",
       "</div>"
      ],
      "text/plain": [
       "    topic              kind  0_war  0_all      freq\n",
       "0       0       independent   2928  23111  0.126693\n",
       "1       1       independent   5111  23111  0.221150\n",
       "2       2       independent   3840  23111  0.166155\n",
       "3       3       independent     91  23111  0.003938\n",
       "4       4       independent   2081  23111  0.090044\n",
       "5       5       independent    622  23111  0.026914\n",
       "6       6       independent   2905  23111  0.125698\n",
       "7       7       independent    773  23111  0.033447\n",
       "8       8       independent    490  23111  0.021202\n",
       "9       9       independent    270  23111  0.011683\n",
       "10     10       independent   2302  23111  0.099606\n",
       "11     11       independent   1698  23111  0.073472\n",
       "12      0  state-affiliated    101  75892  0.001331\n",
       "13      1  state-affiliated   5152  75892  0.067886\n",
       "14      2  state-affiliated   7526  75892  0.099167\n",
       "15      3  state-affiliated  13862  75892  0.182654\n",
       "16      4  state-affiliated  10939  75892  0.144139\n",
       "17      5  state-affiliated   7979  75892  0.105136\n",
       "18      6  state-affiliated   1012  75892  0.013335\n",
       "19      7  state-affiliated   4832  75892  0.063669\n",
       "20      8  state-affiliated   7874  75892  0.103753\n",
       "21      9  state-affiliated   4477  75892  0.058992\n",
       "22     10  state-affiliated   6078  75892  0.080087\n",
       "23     11  state-affiliated   6060  75892  0.079850"
      ]
     },
     "execution_count": 82,
     "metadata": {},
     "output_type": "execute_result"
    }
   ],
   "source": [
    "# compute the number of posts for each date for each kind\n",
    "cnt_df_war = pd.DataFrame(results.groupby(['topic', 'kind']).size()).reset_index()\n",
    "# print(cnt_df_war)\n",
    "cnt_df_all = pd.DataFrame(results.groupby(['kind']).size()).reset_index()\n",
    "# print(cnt_df_all)\n",
    "cnt_df = cnt_df_war.merge(cnt_df_all, on='kind', suffixes=('_war', '_all'))\n",
    "# # set nan to 0, and set all to float\n",
    "# cnt_df = cnt_df.fillna(0).astype(float)\n",
    "cnt_df['freq'] = cnt_df['0_war'] / cnt_df['0_all']\n",
    "cnt_df"
   ]
  },
  {
   "cell_type": "code",
   "execution_count": 98,
   "metadata": {},
   "outputs": [
    {
     "data": {
      "image/png": "[encoded data removed]",
      "text/plain": [
       "<Figure size 800x400 with 1 Axes>"
      ]
     },
     "metadata": {},
     "output_type": "display_data"
    }
   ],
   "source": [
    "# seaborm bar plot of freq, group by type and hue by kind\n",
    "\n",
    "import seaborn as sns\n",
    "import matplotlib.pyplot as plt\n",
    "fig = plt.figure(figsize=(8, 4))\n",
    "sns.set_theme(style=\"darkgrid\")\n",
    "hue_order = ['state-affiliated', 'independent']\n",
    "x_order = [military_topic_idx, ukraine_topic_idx]\n",
    "g = sns.barplot(x=\"topic\", y=\"freq\", hue=\"kind\", data=cnt_df[cnt_df['topic'].isin([military_topic_idx, ukraine_topic_idx])], hue_order=hue_order)\n",
    "g.legend_.set_title(\"\")\n",
    "plt.ylabel('Avg. Topic Proportion')\n",
    "plt.xlabel('Topic')\n",
    "plt.xticks([0, 1], ['Military', 'Ukraine'])\n",
    "plt.show()\n",
    "fig.savefig(\"fig2.pdf\", bbox_inches='tight')"
   ]
  },
  {
   "cell_type": "code",
   "execution_count": null,
   "metadata": {},
   "outputs": [],
   "source": []
  }
 ],
 "metadata": {
  "kernelspec": {
   "display_name": "pt-hw-pro",
   "language": "python",
   "name": "python3"
  },
  "language_info": {
   "codemirror_mode": {
    "name": "ipython",
    "version": 3
   },
   "file_extension": ".py",
   "mimetype": "text/x-python",
   "name": "python",
   "nbconvert_exporter": "python",
   "pygments_lexer": "ipython3",
   "version": "3.9.15"
  },
  "orig_nbformat": 4,
  "vscode": {
   "interpreter": {
    "hash": "037a2a3a9f2378d8b631599600d20ca027f3d19a0b773b712bc34f5e74aaf45a"
   }
  }
 },
 "nbformat": 4,
 "nbformat_minor": 2
}
